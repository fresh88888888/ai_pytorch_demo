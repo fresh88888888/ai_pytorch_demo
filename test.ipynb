{
 "cells": [
  {
   "cell_type": "markdown",
   "metadata": {},
   "source": [
    "#### Creating a 1-dimensional array\n",
    "\n",
    "The easiest way to create an array is to pass a list to Numpy's main utility to create arrays, np.array:"
   ]
  },
  {
   "cell_type": "markdown",
   "metadata": {},
   "source": [
    "The array function will acept any Python sequence. Thinks of lists, sets, tuples, or even a range. The function accepts several optional keyword arguments, and we will discuss two of them here: copy and dtype.\n",
    "\n",
    "##### The copy Argument\n",
    "\n",
    "The copy argument states whether to make a copy of the input object. When copy is True, any changes in the resulting array will not change the input object. However, if it is False, changes in the array can change the input object.\n",
    "\n",
    "When using lists to make arrays, NumPy will always copy the object regardless of the argument’s value; for example:"
   ]
  },
  {
   "cell_type": "code",
   "execution_count": null,
   "metadata": {},
   "outputs": [],
   "source": [
    "import numpy as np\n",
    "\n",
    "lst = [1,2,3,4]\n",
    "a = np.array(lst, copy=False)\n",
    "print(a)"
   ]
  },
  {
   "cell_type": "markdown",
   "metadata": {},
   "source": [
    "If we change the array, the list will stay the same since NumPy copied it:"
   ]
  },
  {
   "cell_type": "code",
   "execution_count": null,
   "metadata": {},
   "outputs": [],
   "source": [
    "import numpy as np\n",
    "\n",
    "a[0] = 0\n",
    "print(lst, a)"
   ]
  },
  {
   "cell_type": "markdown",
   "metadata": {},
   "source": [
    "If we create the same list but with another NumPy array as input, Let’s see what happens if we change the resulting array:"
   ]
  },
  {
   "cell_type": "code",
   "execution_count": null,
   "metadata": {},
   "outputs": [],
   "source": [
    "a_in = np.array([1,2,3,4])\n",
    "a = np.array(a_in, copy=False)\n",
    "a[0] = 0\n",
    "a_in[1] = 5\n",
    "print(a_in, a)"
   ]
  },
  {
   "cell_type": "markdown",
   "metadata": {},
   "source": [
    "Both arrays changed because we set the copy option to False.\n",
    "\n",
    "##### The dtype argument\n",
    "\n",
    "Another commonly used argument is dtype, indicating the data type of the elements of this array explicitly. In the next section, you will learn about the available data types. One of them, the np.int16 type, is the smallest available integer type, taking up way less space (just two bytes) than a regular Python integer.\n",
    "\n",
    "#### NumPy data types (dtypes)\n",
    "\n",
    "Another keyword argument of the function np.array is dtype. This argument specifies the data type in the array. Remember, one of the key properties of an array is that all elements have the same type.\n",
    "\n",
    "NumPy implements its own data types that are optimized for efficient storage and processing. For this, it uses the base class called dtype. Let’s take a look at the most common dtypes:\n",
    "\n",
    "- np.int16\n",
    "- np.int32\n",
    "- np.int64\n",
    "- np.float32\n",
    "- np.float64\n",
    "- np.float128\n",
    "- np.bool_\n",
    "- np.str_\n",
    "- np.bytes_\n",
    "- np.object_\n",
    "\n",
    "In this article, we’ll focus on numeric types only.\n",
    "\n",
    "##### Integers\n",
    "\n",
    "The integer dtypes, np.int16, np.int32, and np.int64 differ only in the size of the number they can store:\n",
    "- np.int16 -> ± 32,762\n",
    "- np.int32 -> ± 2,147,483,647\n",
    "- np.int64 -> ± 9,223,372,036,854,775,807\n",
    "\n",
    "Under normal circumstances using np.int64 is the way to go since it allows us to store the largest numbers. Int64 is the dtype NumPy uses by default. There are benefits, however, to using smaller integers:\n",
    "- Reduced memory usage\n",
    "- Faster computations\n",
    "\n",
    "More often than not, memory usage on a modern PC won’t be an issue for relatively small arrays. If you think it will be, try the smaller types. You must ensure that all elements and the results of future operations on those elements will not exceed the maximum size of the chosen type.\n",
    "\n",
    "##### Floats\n",
    "\n",
    "The different NumPy float types allow us to store floats in different precision, dependent on the number of bits we allow the float to use. The larger the number of allowed bits, the more precision our array’s elements will have. E.g., np.float16 will use 16 bits (two bytes), while np.float64 takes up 64 bits (8 bytes).\n",
    "\n",
    "Increased precision comes at the expense of memory and performance. Still, the rule of thumb is to err on the safe side and use np.float64 by default unless you have a good reason to use something else. E.g., if you can spare some precision, and performance and memory usage are of the essence, use something smaller.\n",
    "\n",
    "Let’s explore how the float size affects precision:"
   ]
  },
  {
   "cell_type": "code",
   "execution_count": null,
   "metadata": {},
   "outputs": [],
   "source": [
    "import numpy as np\n",
    "\n",
    "a = np.array([1.3738729019013636723763], dtype=np.float16)[0]\n",
    "print(\"float16:\", a)\n",
    "\n",
    "a = np.array([1.3738729019013636723763], dtype=np.float32)[0]\n",
    "print(\"float32:\", a)\n",
    "\n",
    "a = np.array([1.3738729019013636723763], dtype=np.float64)[0]\n",
    "print(\"float64:\", a)\n",
    "\n",
    "a = np.array([1.3738729019013636723763], dtype=np.float128)[0]\n",
    "print(\"float128:\", a)"
   ]
  },
  {
   "cell_type": "markdown",
   "metadata": {},
   "source": [
    "The output nicely demonstrates how the different types influence the amount of precision we can store, There’s even a float128 type on Linux and MacOS, as can be seen in the example. It will probably give an error if you’re on Windows\n",
    "\n",
    "#### Using NumPy arrays\n",
    "\n",
    "We’ll now look closely at how to use NumPy arrays, starting with accessing elements using array indexing.\n",
    "\n",
    "##### Getting a single element\n",
    "\n",
    "We can access and modify single elements:"
   ]
  },
  {
   "cell_type": "code",
   "execution_count": null,
   "metadata": {},
   "outputs": [],
   "source": [
    "a = np.array([0.0, 2.0, 3.0, 4.0, 5.0])\n",
    "print(a[0])\n",
    "a[0] = 1.0\n",
    "print(a)"
   ]
  },
  {
   "cell_type": "markdown",
   "metadata": {},
   "source": [
    "##### Accessing multiple elements\n",
    "\n",
    "We can access and modify multiple specific elements in a NumPy array at once. Note that Python lists do not have this feature:"
   ]
  },
  {
   "cell_type": "code",
   "execution_count": null,
   "metadata": {},
   "outputs": [],
   "source": [
    "a = np.array([0.0, 2.0, 3.0, 4.0, 5.0])\n",
    "# Get elements at position 0 and 2\n",
    "print(a[[0, 2]])\n",
    "# [0., 3.]\n",
    "# Change the first two elements\n",
    "a[[0, 1]] = [0, 3.0]\n",
    "print(a)\n",
    "# [0., 3., 3., 4., 5.]"
   ]
  },
  {
   "cell_type": "markdown",
   "metadata": {},
   "source": [
    "##### Negative indexing\n",
    "\n",
    "Negative indices work the same as with lists; they count indices backward. For example, to get elements at the end of the array you can use:"
   ]
  },
  {
   "cell_type": "code",
   "execution_count": null,
   "metadata": {},
   "outputs": [],
   "source": [
    "a = np.array([0.0, 2.0, 3.0, 4.0, 5.0])\n",
    "print(a[-1])\n",
    "# 5.0\n",
    "print(a[-2])\n",
    "# 4.0"
   ]
  },
  {
   "cell_type": "markdown",
   "metadata": {},
   "source": [
    "##### Slicing\n",
    "\n",
    "Slicing works as well, and it behaves exactly like the regular slicing of lists, e.g., the format is a[start: stop: step]. As an example, let’s get the first three elements of an array:"
   ]
  },
  {
   "cell_type": "code",
   "execution_count": null,
   "metadata": {},
   "outputs": [],
   "source": [
    "a = np.array([0.0, 2.0, 3.0, 4.0, 5.0])\n",
    "print(a[0: 3])\n",
    "# Or all the elements except for the last one:\n",
    "print(a[0: -1])\n",
    "# [0., 2., 3., 4.]\n",
    "# And like lists, we can also reverse the array this way:\n",
    "print(a[:: -1])\n",
    "# [5., 4., 3., 2., 0.]"
   ]
  },
  {
   "cell_type": "markdown",
   "metadata": {},
   "source": [
    "##### Append, insert, delete, and sort\n",
    "\n",
    "NumPy arrays have more in common with lists. Many of the regular operations behave similarly to Python lists, like sorting, deleting, inserting, and appending data. Note that these methods all return a new array instead of modifying the given array.\n",
    "\n",
    "#### Append to NumPy array\n",
    "\n",
    "To append means to add elements to the end. We can append single elements to a NumPy array just like we do with lists:"
   ]
  },
  {
   "cell_type": "code",
   "execution_count": null,
   "metadata": {},
   "outputs": [],
   "source": [
    "a = np.array([1.0, 2.0])\n",
    "a = np.append(a, 3.0)\n",
    "print(a)\n",
    "# [1., 2., 3.]"
   ]
  },
  {
   "cell_type": "markdown",
   "metadata": {},
   "source": [
    "We’re used to using the extend method to append multiple elements to a list. However, NumPy arrays reuse the same append function to add multiple elements:"
   ]
  },
  {
   "cell_type": "code",
   "execution_count": null,
   "metadata": {},
   "outputs": [],
   "source": [
    "a = np.array([1.0, 2.0])\n",
    "a = np.append(a, [4.0, 5.0])\n",
    "print(a)\n",
    "# [1., 2., 4., 5.]"
   ]
  },
  {
   "cell_type": "markdown",
   "metadata": {},
   "source": [
    "##### Insert into NumPy array\n",
    "\n",
    "We can insert one or more elements at specific index locations using insert:"
   ]
  },
  {
   "cell_type": "code",
   "execution_count": null,
   "metadata": {},
   "outputs": [],
   "source": [
    "a = np.array([1.0, 2.0, 3.0, 4.0, 5.0])\n",
    "print(a)\n",
    "# Insert one element at position 3\n",
    "a = np.insert(a, 3, values=3.5)\n",
    "print(a)\n",
    "# a is now [1. , 2. , 3. , 3.5, 4. , 5. ]\n",
    "# Insert a list of elements at position 3\n",
    "a = np.insert(a, 3, values=[100, 200])\n",
    "print(a)\n",
    "# a is now [  1.    2.    3.  100.  200.    3.5   4.    5. ]\n",
    "# Insert multiple elements at multiple positions\n",
    "a = np.insert(a, [3, 5], values=[4.5, 5.5])\n",
    "print(a)\n",
    "# a is now [  1.    2.    3.    4.5 100.  200.    5.5   3.5   4.    5. ]"
   ]
  },
  {
   "cell_type": "markdown",
   "metadata": {},
   "source": [
    "##### Delete elements from NumPy array\n",
    "\n",
    "We can delete one or more elements at once as well:"
   ]
  },
  {
   "cell_type": "code",
   "execution_count": null,
   "metadata": {},
   "outputs": [],
   "source": [
    "a = np.array([1.0, 2.0, 3.0, 4.0, 5.0])\n",
    "a = np.delete(a, -1)\n",
    "# a is now [1., 2., 3., 4.]\n",
    "a = np.delete(a, [0, 1])\n",
    "# a is now [3., 4.]"
   ]
  },
  {
   "cell_type": "markdown",
   "metadata": {},
   "source": [
    "##### Sorting NumPy array\n",
    "\n",
    "There are two ways to sort a NumPy array: in-place sort and creating a new, sorted array. To start with that last one: "
   ]
  },
  {
   "cell_type": "code",
   "execution_count": null,
   "metadata": {},
   "outputs": [],
   "source": [
    "a = np.array([1.0, 3.0, 2.0, 4.0, 5.0])\n",
    "b = np.sort(a)\n",
    "# b is now [1., 2., 3., 4., 5.]\n",
    "\n",
    "# And to do an in-place sort, do as follows:\n",
    "a = np.array([1.0, 3.0, 2.0, 4.0, 5.0])\n",
    "a.sort()\n",
    "# a is now [1., 2., 3., 4., 5.]"
   ]
  },
  {
   "cell_type": "markdown",
   "metadata": {},
   "source": [
    "Notice that most methods do not belong to the array class itself, except for the sort method. Hence, we have to call the methods on the np object that accepts the array as an argument. And all these transformations do not happen in place but return a new array (except for sort).\n",
    "\n",
    "In the NumPy course (coming soon!), we will go through more functions and array methods that enable us to do much more with arrays.\n",
    "\n",
    "#### Mathematical array operations\n",
    "\n",
    "We’ll conclude this article with the most common mathematical operations that one might want to perform with arrays: sum, subtraction, multiplication, and division.\n",
    "\n",
    "Arrays handle like scalars; operations are carried out element-wise. Hence, arrays can only be added, subtracted, multiplied, or divided by another array of the same size or a scalar.\n",
    "\n",
    "Let’s define some arrays first, notice that a and b have the same size of 4, b_wrong_size has a different size of 3 elements:"
   ]
  },
  {
   "cell_type": "code",
   "execution_count": null,
   "metadata": {},
   "outputs": [],
   "source": [
    "a = np.array([1.0, 2.0, 3.0, 4.0])\n",
    "b = np.array([2.0, 2.0, 2.0, 2.0])\n",
    "b_wrong_size = np.array([2.0, 2.0, 2.0])\n",
    "\n",
    "# If we try to operate with arrays of different sizes, a ValueError exception will be raised:\n",
    "a = np.array([1.0, 2.0, 3.0, 4.0])\n",
    "b_wrong_size = np.array([2.0, 2.0, 2.0])\n",
    "# raises ValueError exception\n",
    "a + b_wrong_size\n",
    "# ValueError: operands could not be broadcast together with shapes (4,) (3,)"
   ]
  },
  {
   "cell_type": "markdown",
   "metadata": {},
   "source": [
    "##### Addition and subtraction\n",
    "\n",
    "We can add arrays together or add a single value to each element of the array:"
   ]
  },
  {
   "cell_type": "code",
   "execution_count": null,
   "metadata": {},
   "outputs": [],
   "source": [
    "a = np.array([1.0, 2.0, 3.0, 4.0])\n",
    "b = np.array([2.0, 2.0, 2.0, 2.0])\n",
    "print(a + b)\n",
    "#[3., 4., 5., 6.]\n",
    "print(a + 2)\n",
    "#[3., 4., 5., 6.]\n",
    "print(a - b)\n",
    "#[-1.,  0.,  1.,  2.]\n",
    "print(a - 2)\n",
    "#[-1.,  0.,  1.,  2.]"
   ]
  },
  {
   "cell_type": "markdown",
   "metadata": {},
   "source": [
    "##### Multiplication and division\n",
    "\n",
    "The same is true for multiplication and division: we can either use a single value or two arrays:"
   ]
  },
  {
   "cell_type": "code",
   "execution_count": null,
   "metadata": {},
   "outputs": [],
   "source": [
    "a = np.array([1.0, 2.0, 3.0, 4.0])\n",
    "b = np.array([2.0, 2.0, 2.0, 2.0])\n",
    "print(a * b)\n",
    "#[2., 4., 6., 8.]\n",
    "print(a * 2)\n",
    "#[2., 4., 6., 8.]\n",
    "print(a / b)\n",
    "#[0.5, 1., 1.5, 2.]\n",
    "print(a / 2)\n",
    "#[0.5, 1., 1.5, 2.]"
   ]
  },
  {
   "cell_type": "markdown",
   "metadata": {},
   "source": [
    "- The official NumPy manual has a section for absolute beginners\n",
    "- If you know MATLAB, you will like NumPy for MATLAB users"
   ]
  }
 ],
 "metadata": {
  "kernelspec": {
   "display_name": "hello-D1UArRDQ-py3.11",
   "language": "python",
   "name": "python3"
  },
  "language_info": {
   "codemirror_mode": {
    "name": "ipython",
    "version": 3
   },
   "file_extension": ".py",
   "mimetype": "text/x-python",
   "name": "python",
   "nbconvert_exporter": "python",
   "pygments_lexer": "ipython3",
   "version": "3.11.7"
  }
 },
 "nbformat": 4,
 "nbformat_minor": 2
}
